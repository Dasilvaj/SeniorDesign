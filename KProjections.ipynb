{
 "cells": [
  {
   "cell_type": "code",
   "execution_count": 1,
   "metadata": {},
   "outputs": [],
   "source": [
    "# Import packages\n",
    "\n",
    "%matplotlib inline\n",
    "\n",
    "import pandas as pd\n",
    "import numpy as np\n",
    "import math\n",
    "import matplotlib.pyplot as plt\n",
    "from sklearn.model_selection import train_test_split\n",
    "from sklearn import linear_model\n",
    "from sklearn.svm import SVR\n",
    "from sklearn.metrics import mean_squared_error, r2_score\n",
    "from scipy.stats import linregress\n",
    "from scipy.stats import norm\n",
    "from operator import itemgetter\n",
    "from sklearn.linear_model import LogisticRegression\n",
    "from sklearn.ensemble import GradientBoostingRegressor \n",
    "from sklearn.ensemble import RandomForestRegressor"
   ]
  },
  {
   "cell_type": "code",
   "execution_count": 2,
   "metadata": {},
   "outputs": [
    {
     "data": {
      "text/plain": [
       "Index(['Name', 'G', 'XPM', 'XPA', 'XP%', 'FGM', 'FGA', 'FG%', '0-29', '30-39',\n",
       "       '40-49', '50+', 'Team PPG', 'FantPt', 'Pts/G'],\n",
       "      dtype='object')"
      ]
     },
     "execution_count": 2,
     "metadata": {},
     "output_type": "execute_result"
    }
   ],
   "source": [
    "# Import  datasets\n",
    "\n",
    "# Change path for different computer\n",
    "\n",
    "KTraining_path = r'C:\\Users\\Jeremy\\Desktop\\K_Aggregate.csv'\n",
    "projK_path = r'C:\\Users\\Jeremy\\Desktop\\K_Projected.csv'\n",
    "K2018_path = r'C:\\Users\\Jeremy\\Desktop\\K2018.csv'\n",
    "dfTrainingK = pd.read_csv(KTraining_path)\n",
    "dfK = pd.read_csv(K2018_path)\n",
    "dfProjectedK = pd.read_csv(projK_path)\n",
    "dfTrainingK.columns"
   ]
  },
  {
   "cell_type": "code",
   "execution_count": 3,
   "metadata": {},
   "outputs": [
    {
     "data": {
      "text/html": [
       "<div>\n",
       "<style scoped>\n",
       "    .dataframe tbody tr th:only-of-type {\n",
       "        vertical-align: middle;\n",
       "    }\n",
       "\n",
       "    .dataframe tbody tr th {\n",
       "        vertical-align: top;\n",
       "    }\n",
       "\n",
       "    .dataframe thead th {\n",
       "        text-align: right;\n",
       "    }\n",
       "</style>\n",
       "<table border=\"1\" class=\"dataframe\">\n",
       "  <thead>\n",
       "    <tr style=\"text-align: right;\">\n",
       "      <th></th>\n",
       "      <th>Name</th>\n",
       "      <th>G</th>\n",
       "      <th>XPM</th>\n",
       "      <th>XPA</th>\n",
       "      <th>XP%</th>\n",
       "      <th>FGM</th>\n",
       "      <th>FGA</th>\n",
       "      <th>FG%</th>\n",
       "      <th>0-29</th>\n",
       "      <th>30-39</th>\n",
       "      <th>40-49</th>\n",
       "      <th>50+</th>\n",
       "      <th>Team PPG</th>\n",
       "      <th>FantPt</th>\n",
       "      <th>Pts/G</th>\n",
       "    </tr>\n",
       "  </thead>\n",
       "  <tbody>\n",
       "    <tr>\n",
       "      <th>0</th>\n",
       "      <td>Stephen Gostkowski</td>\n",
       "      <td>16</td>\n",
       "      <td>51</td>\n",
       "      <td>51</td>\n",
       "      <td>100.0</td>\n",
       "      <td>35</td>\n",
       "      <td>37</td>\n",
       "      <td>94.6</td>\n",
       "      <td>11</td>\n",
       "      <td>10</td>\n",
       "      <td>12</td>\n",
       "      <td>1</td>\n",
       "      <td>29.2</td>\n",
       "      <td>156</td>\n",
       "      <td>9.8</td>\n",
       "    </tr>\n",
       "    <tr>\n",
       "      <th>1</th>\n",
       "      <td>Cody Parkey</td>\n",
       "      <td>16</td>\n",
       "      <td>54</td>\n",
       "      <td>54</td>\n",
       "      <td>100.0</td>\n",
       "      <td>32</td>\n",
       "      <td>36</td>\n",
       "      <td>88.9</td>\n",
       "      <td>10</td>\n",
       "      <td>14</td>\n",
       "      <td>4</td>\n",
       "      <td>4</td>\n",
       "      <td>29.6</td>\n",
       "      <td>150</td>\n",
       "      <td>9.4</td>\n",
       "    </tr>\n",
       "    <tr>\n",
       "      <th>2</th>\n",
       "      <td>Adam Vinatieri</td>\n",
       "      <td>16</td>\n",
       "      <td>50</td>\n",
       "      <td>50</td>\n",
       "      <td>100.0</td>\n",
       "      <td>30</td>\n",
       "      <td>31</td>\n",
       "      <td>96.8</td>\n",
       "      <td>10</td>\n",
       "      <td>10</td>\n",
       "      <td>7</td>\n",
       "      <td>3</td>\n",
       "      <td>28.6</td>\n",
       "      <td>140</td>\n",
       "      <td>8.8</td>\n",
       "    </tr>\n",
       "    <tr>\n",
       "      <th>3</th>\n",
       "      <td>Mason Crosby</td>\n",
       "      <td>16</td>\n",
       "      <td>53</td>\n",
       "      <td>55</td>\n",
       "      <td>96.4</td>\n",
       "      <td>27</td>\n",
       "      <td>33</td>\n",
       "      <td>81.8</td>\n",
       "      <td>7</td>\n",
       "      <td>11</td>\n",
       "      <td>5</td>\n",
       "      <td>4</td>\n",
       "      <td>30.4</td>\n",
       "      <td>136</td>\n",
       "      <td>8.5</td>\n",
       "    </tr>\n",
       "    <tr>\n",
       "      <th>4</th>\n",
       "      <td>Stephen Hauschka</td>\n",
       "      <td>16</td>\n",
       "      <td>41</td>\n",
       "      <td>41</td>\n",
       "      <td>100.0</td>\n",
       "      <td>31</td>\n",
       "      <td>37</td>\n",
       "      <td>83.8</td>\n",
       "      <td>10</td>\n",
       "      <td>10</td>\n",
       "      <td>9</td>\n",
       "      <td>2</td>\n",
       "      <td>24.6</td>\n",
       "      <td>134</td>\n",
       "      <td>8.4</td>\n",
       "    </tr>\n",
       "  </tbody>\n",
       "</table>\n",
       "</div>"
      ],
      "text/plain": [
       "                 Name   G  XPM  XPA    XP%  FGM  FGA   FG%  0-29  30-39  \\\n",
       "0  Stephen Gostkowski  16   51   51  100.0   35   37  94.6    11     10   \n",
       "1         Cody Parkey  16   54   54  100.0   32   36  88.9    10     14   \n",
       "2      Adam Vinatieri  16   50   50  100.0   30   31  96.8    10     10   \n",
       "3        Mason Crosby  16   53   55   96.4   27   33  81.8     7     11   \n",
       "4    Stephen Hauschka  16   41   41  100.0   31   37  83.8    10     10   \n",
       "\n",
       "   40-49  50+  Team PPG  FantPt  Pts/G  \n",
       "0     12    1      29.2     156    9.8  \n",
       "1      4    4      29.6     150    9.4  \n",
       "2      7    3      28.6     140    8.8  \n",
       "3      5    4      30.4     136    8.5  \n",
       "4      9    2      24.6     134    8.4  "
      ]
     },
     "execution_count": 3,
     "metadata": {},
     "output_type": "execute_result"
    }
   ],
   "source": [
    "dfTrainingK.head()"
   ]
  },
  {
   "cell_type": "code",
   "execution_count": 4,
   "metadata": {},
   "outputs": [
    {
     "data": {
      "text/plain": [
       "Index(['Name', 'AVG XPM', 'AVG XPA', 'AVG XP%', 'AVG FGM', 'AVG FGA',\n",
       "       'AVG FG%', 'AVG 0-29', 'AVG 30-39', 'AVG 40-49', 'AVG 50+', 'PPG'],\n",
       "      dtype='object')"
      ]
     },
     "execution_count": 4,
     "metadata": {},
     "output_type": "execute_result"
    }
   ],
   "source": [
    "dfK.columns"
   ]
  },
  {
   "cell_type": "code",
   "execution_count": 5,
   "metadata": {},
   "outputs": [
    {
     "data": {
      "text/html": [
       "<div>\n",
       "<style scoped>\n",
       "    .dataframe tbody tr th:only-of-type {\n",
       "        vertical-align: middle;\n",
       "    }\n",
       "\n",
       "    .dataframe tbody tr th {\n",
       "        vertical-align: top;\n",
       "    }\n",
       "\n",
       "    .dataframe thead th {\n",
       "        text-align: right;\n",
       "    }\n",
       "</style>\n",
       "<table border=\"1\" class=\"dataframe\">\n",
       "  <thead>\n",
       "    <tr style=\"text-align: right;\">\n",
       "      <th></th>\n",
       "      <th>Name</th>\n",
       "      <th>AVG XPM</th>\n",
       "      <th>AVG XPA</th>\n",
       "      <th>AVG XP%</th>\n",
       "      <th>AVG FGM</th>\n",
       "      <th>AVG FGA</th>\n",
       "      <th>AVG FG%</th>\n",
       "      <th>AVG 0-29</th>\n",
       "      <th>AVG 30-39</th>\n",
       "      <th>AVG 40-49</th>\n",
       "      <th>AVG 50+</th>\n",
       "      <th>PPG</th>\n",
       "    </tr>\n",
       "  </thead>\n",
       "  <tbody>\n",
       "    <tr>\n",
       "      <th>0</th>\n",
       "      <td>Stephen Gostkowski</td>\n",
       "      <td>51</td>\n",
       "      <td>52</td>\n",
       "      <td>98.7</td>\n",
       "      <td>30</td>\n",
       "      <td>34</td>\n",
       "      <td>88.2</td>\n",
       "      <td>10</td>\n",
       "      <td>10</td>\n",
       "      <td>8</td>\n",
       "      <td>2</td>\n",
       "      <td>27.6</td>\n",
       "    </tr>\n",
       "    <tr>\n",
       "      <th>1</th>\n",
       "      <td>Greg Zuerlein</td>\n",
       "      <td>34</td>\n",
       "      <td>35</td>\n",
       "      <td>97.1</td>\n",
       "      <td>27</td>\n",
       "      <td>33</td>\n",
       "      <td>81.8</td>\n",
       "      <td>7</td>\n",
       "      <td>9</td>\n",
       "      <td>6</td>\n",
       "      <td>5</td>\n",
       "      <td>34.9</td>\n",
       "    </tr>\n",
       "    <tr>\n",
       "      <th>2</th>\n",
       "      <td>Justin Tucker</td>\n",
       "      <td>35</td>\n",
       "      <td>35</td>\n",
       "      <td>100.0</td>\n",
       "      <td>34</td>\n",
       "      <td>37</td>\n",
       "      <td>91.9</td>\n",
       "      <td>8</td>\n",
       "      <td>10</td>\n",
       "      <td>10</td>\n",
       "      <td>6</td>\n",
       "      <td>24.8</td>\n",
       "    </tr>\n",
       "    <tr>\n",
       "      <th>3</th>\n",
       "      <td>Wil Lutz</td>\n",
       "      <td>51</td>\n",
       "      <td>53</td>\n",
       "      <td>96.2</td>\n",
       "      <td>30</td>\n",
       "      <td>34</td>\n",
       "      <td>88.2</td>\n",
       "      <td>8</td>\n",
       "      <td>8</td>\n",
       "      <td>10</td>\n",
       "      <td>4</td>\n",
       "      <td>34.9</td>\n",
       "    </tr>\n",
       "    <tr>\n",
       "      <th>4</th>\n",
       "      <td>Matt Bryant</td>\n",
       "      <td>37</td>\n",
       "      <td>38</td>\n",
       "      <td>97.4</td>\n",
       "      <td>27</td>\n",
       "      <td>31</td>\n",
       "      <td>87.1</td>\n",
       "      <td>8</td>\n",
       "      <td>8</td>\n",
       "      <td>8</td>\n",
       "      <td>3</td>\n",
       "      <td>24.7</td>\n",
       "    </tr>\n",
       "  </tbody>\n",
       "</table>\n",
       "</div>"
      ],
      "text/plain": [
       "                 Name  AVG XPM  AVG XPA  AVG XP%  AVG FGM  AVG FGA  AVG FG%  \\\n",
       "0  Stephen Gostkowski       51       52     98.7       30       34     88.2   \n",
       "1       Greg Zuerlein       34       35     97.1       27       33     81.8   \n",
       "2       Justin Tucker       35       35    100.0       34       37     91.9   \n",
       "3            Wil Lutz       51       53     96.2       30       34     88.2   \n",
       "4         Matt Bryant       37       38     97.4       27       31     87.1   \n",
       "\n",
       "   AVG 0-29  AVG 30-39  AVG 40-49  AVG 50+   PPG  \n",
       "0        10         10          8        2  27.6  \n",
       "1         7          9          6        5  34.9  \n",
       "2         8         10         10        6  24.8  \n",
       "3         8          8         10        4  34.9  \n",
       "4         8          8          8        3  24.7  "
      ]
     },
     "execution_count": 5,
     "metadata": {},
     "output_type": "execute_result"
    }
   ],
   "source": [
    "dfK.head()"
   ]
  },
  {
   "cell_type": "code",
   "execution_count": 6,
   "metadata": {},
   "outputs": [],
   "source": [
    "# Train and test set construction\n",
    "\n",
    "train, test = train_test_split(dfTrainingK, test_size=0.2, random_state=52)\n",
    " \n",
    "xtrain = train[['XPM', 'XPA', 'XP%', 'FGM', 'FGA', 'FG%', '0-29', '30-39',\n",
    "       '40-49', '50+', 'Team PPG']]\n",
    "ytrain = train[['FantPt']]\n",
    " \n",
    "xtest = test[['XPM', 'XPA', 'XP%', 'FGM', 'FGA', 'FG%', '0-29', '30-39',\n",
    "       '40-49', '50+', 'Team PPG']]\n",
    "ytest = test[['FantPt']]"
   ]
  },
  {
   "cell_type": "code",
   "execution_count": 7,
   "metadata": {},
   "outputs": [
    {
     "name": "stdout",
     "output_type": "stream",
     "text": [
      "      FantPt\n",
      "2   0.017137\n",
      "8   0.012393\n",
      "19  0.002410\n",
      "66  0.028400\n",
      "52  0.004972\n",
      "4   0.041579\n",
      "29  0.017892\n",
      "80  0.013485\n",
      "51 -0.014609\n",
      "65  0.019815\n",
      "48  0.012766\n",
      "73  0.023631\n",
      "62 -0.028927\n",
      "83 -0.020277\n",
      "78  0.048859\n",
      "49  0.003802\n",
      "44 -0.003047\n",
      "84  0.014011\n",
      "Coefficients: \n",
      " [[-6.36409979e-03  1.00611190e+00  3.91138100e-03  2.98781950e+00\n",
      "   1.75792043e-03 -4.20878675e-05  1.48446368e-02  1.30732545e-02\n",
      "   1.05070265e-02  8.41803037e-03 -2.66565808e-03]]\n",
      "Mean squared error: 0.000\n",
      "Variance score: 1.000\n"
     ]
    }
   ],
   "source": [
    "#Linear Regression \n",
    "\n",
    "linReg = linear_model.LinearRegression()\n",
    "linReg.fit(xtrain, ytrain)\n",
    "\n",
    "y_predLin = linReg.predict(xtest)\n",
    "\n",
    "print(y_predLin - ytest)\n",
    "\n",
    "print('Coefficients: \\n', linReg.coef_)\n",
    "print(\"Mean squared error: %.3f\" % mean_squared_error(ytest, y_predLin))\n",
    "print('Variance score: %.3f' % r2_score(ytest, y_predLin))"
   ]
  },
  {
   "cell_type": "code",
   "execution_count": 8,
   "metadata": {},
   "outputs": [
    {
     "name": "stdout",
     "output_type": "stream",
     "text": [
      "       FantPt\n",
      "2    0.019496\n",
      "8   -0.874453\n",
      "19  -1.809966\n",
      "66  -3.225957\n",
      "52  -1.074415\n",
      "4   -0.997050\n",
      "29   1.259890\n",
      "80   2.283474\n",
      "51   0.148722\n",
      "65  -5.761438\n",
      "48  -2.296149\n",
      "73  -0.440903\n",
      "62  11.093317\n",
      "83   6.604244\n",
      "78   0.883395\n",
      "49  -0.833097\n",
      "44  -0.086121\n",
      "84   2.524095\n",
      "Coefficients: \n",
      " [[ 0.44406307  0.48913204 -0.07110881  1.05581672  1.09676955  0.43639376\n",
      "   0.26819881  0.31562594  0.26364552  0.20439927  0.22599938]]\n",
      "Mean squared error: 13.145\n",
      "Variance score: 0.980\n"
     ]
    }
   ],
   "source": [
    "# Ridge Regression\n",
    "\n",
    "ridgeReg = linear_model.Ridge(alpha = 1000)\n",
    "\n",
    "ridgeReg.fit(xtrain, ytrain)\n",
    "\n",
    "y_predRidge = ridgeReg.predict(xtest)\n",
    "\n",
    "print(y_predRidge - ytest)\n",
    "\n",
    "print('Coefficients: \\n', ridgeReg.coef_)\n",
    "print(\"Mean squared error: %.3f\" % mean_squared_error(ytest, y_predRidge))\n",
    "print('Variance score: %.3f' % r2_score(ytest, y_predRidge))"
   ]
  },
  {
   "cell_type": "code",
   "execution_count": 9,
   "metadata": {},
   "outputs": [
    {
     "name": "stdout",
     "output_type": "stream",
     "text": [
      "Coefficients: \n",
      " [-3.00554258e-03  1.00261057e+00  2.86217074e-03  2.97820399e+00\n",
      "  6.07041963e-03  1.45397056e-03  1.91492429e-02  1.74688519e-02\n",
      "  1.48239782e-02  1.30783710e-02 -1.90339855e-03]\n",
      "Mean squared error: 0.000\n",
      "Variance score: 1.000\n"
     ]
    },
    {
     "name": "stderr",
     "output_type": "stream",
     "text": [
      "c:\\users\\jeremy\\appdata\\local\\programs\\python\\python37\\lib\\site-packages\\sklearn\\utils\\validation.py:752: DataConversionWarning: A column-vector y was passed when a 1d array was expected. Please change the shape of y to (n_samples, ), for example using ravel().\n",
      "  y = column_or_1d(y, warn=True)\n"
     ]
    }
   ],
   "source": [
    "# Bayesian Ridge Regression\n",
    "\n",
    "bayesianRidge = linear_model.BayesianRidge()\n",
    "\n",
    "bayesianRidge.fit(xtrain, ytrain)\n",
    "\n",
    "y_pred_bayesianRidge = bayesianRidge.predict(xtest)\n",
    "\n",
    "print('Coefficients: \\n', bayesianRidge.coef_)\n",
    "print(\"Mean squared error: %.3f\" % mean_squared_error(ytest, y_pred_bayesianRidge))\n",
    "print('Variance score: %.3f' % r2_score(ytest, y_pred_bayesianRidge))"
   ]
  },
  {
   "cell_type": "code",
   "execution_count": 10,
   "metadata": {},
   "outputs": [
    {
     "name": "stdout",
     "output_type": "stream",
     "text": [
      "2      0.063896\n",
      "8     -0.606331\n",
      "19     0.817969\n",
      "66     1.276734\n",
      "52    -0.407451\n",
      "4      0.065261\n",
      "29    -0.367846\n",
      "80    -0.893758\n",
      "51    -0.232301\n",
      "65    -0.214769\n",
      "48     0.876446\n",
      "73    -1.799359\n",
      "62    18.270563\n",
      "83     1.882232\n",
      "78    -0.206372\n",
      "49     0.062577\n",
      "44     0.923328\n",
      "84    -0.954227\n",
      "Name: FantPt, dtype: float64\n",
      "Mean squared error: 19.280\n",
      "Variance score: 0.971\n"
     ]
    }
   ],
   "source": [
    "# Support Vector Regression \n",
    "\n",
    "svr_rbf = SVR(kernel='rbf', gamma=1e-3, C=200, epsilon=0.1)\n",
    "svr_rbf.fit(xtrain, ytrain.values.ravel())\n",
    "\n",
    "y_supp = svr_rbf.predict(xtest)\n",
    "\n",
    "print(y_supp - ytest['FantPt'])\n",
    "\n",
    "print(\"Mean squared error: %.3f\" % mean_squared_error(ytest, y_supp))\n",
    "print('Variance score: %.3f' % r2_score(ytest, y_supp))"
   ]
  },
  {
   "cell_type": "code",
   "execution_count": 11,
   "metadata": {},
   "outputs": [
    {
     "name": "stdout",
     "output_type": "stream",
     "text": [
      "2     -6.34\n",
      "8     -2.09\n",
      "19    -2.38\n",
      "66    -4.52\n",
      "52     6.30\n",
      "4      0.35\n",
      "29     2.61\n",
      "80    -1.38\n",
      "51     2.52\n",
      "65   -10.30\n",
      "48     6.10\n",
      "73    -4.99\n",
      "62    12.27\n",
      "83     3.42\n",
      "78     1.56\n",
      "49    -2.62\n",
      "44    -4.18\n",
      "84   -11.78\n",
      "Name: FantPt, dtype: float64\n",
      "Mean squared error: 34.529\n",
      "Variance score: 0.948\n"
     ]
    }
   ],
   "source": [
    "# Random Forest Regression \n",
    "\n",
    "randomForest = RandomForestRegressor(n_estimators = 100, max_depth = 50)\n",
    "randomForest.fit(xtrain, ytrain.values.ravel())\n",
    "\n",
    "y_rand = randomForest.predict(xtest)\n",
    "print(y_rand - ytest['FantPt'])\n",
    "\n",
    "print(\"Mean squared error: %.3f\" % mean_squared_error(ytest, y_rand))\n",
    "print('Variance score: %.3f' % r2_score(ytest, y_rand))"
   ]
  },
  {
   "cell_type": "code",
   "execution_count": 12,
   "metadata": {},
   "outputs": [
    {
     "name": "stdout",
     "output_type": "stream",
     "text": [
      "2     -3.517762\n",
      "8      1.054745\n",
      "19    -0.773794\n",
      "66    -2.703743\n",
      "52     5.463897\n",
      "4     -0.396319\n",
      "29     1.914754\n",
      "80    -3.698362\n",
      "51     3.708070\n",
      "65    -7.151422\n",
      "48     4.987969\n",
      "73    -0.915717\n",
      "62    11.857806\n",
      "83     0.900319\n",
      "78    -4.029078\n",
      "49     3.298475\n",
      "44     0.820498\n",
      "84    -7.032880\n",
      "Name: FantPt, dtype: float64\n",
      "Mean squared error: 21.002\n",
      "Variance score: 0.969\n"
     ]
    }
   ],
   "source": [
    "# Gradient Boosting Regression\n",
    "\n",
    "gradBoost = GradientBoostingRegressor()\n",
    "gradBoost.fit(xtrain, ytrain.values.ravel())\n",
    "\n",
    "y_grad = gradBoost.predict(xtest)\n",
    "print(y_grad - ytest['FantPt'])\n",
    "\n",
    "print(\"Mean squared error: %.3f\" % mean_squared_error(ytest, y_grad))\n",
    "print('Variance score: %.3f' % r2_score(ytest, y_grad))"
   ]
  },
  {
   "cell_type": "code",
   "execution_count": 13,
   "metadata": {},
   "outputs": [
    {
     "name": "stdout",
     "output_type": "stream",
     "text": [
      "Wingspan and DWS: slope = 3.791643878545457 , intercept = 27.453050270723537 , r_value = 0.6283291976994425 , p_value = 4.347446215315131e-11 , std_err = 0.5033047169033419\n"
     ]
    },
    {
     "data": {
      "image/png": "[encoded data removed]",
      "text/plain": [
       "<Figure size 432x288 with 1 Axes>"
      ]
     },
     "metadata": {},
     "output_type": "display_data"
    }
   ],
   "source": [
    "# Scatter plot of correlation between offense PPG and seasonal fantasy points\n",
    "\n",
    "plt.style.use('fivethirtyeight')\n",
    " \n",
    "kickerppg, ax = plt.subplots()\n",
    "\n",
    "ax.scatter(dfTrainingK['Team PPG'], dfTrainingK['FantPt'], color = 'purple')\n",
    "ax.axvline(x = np.mean(dfTrainingK['Team PPG']), color = 'black')\n",
    "ax.axhline(y = np.mean(dfTrainingK['FantPt']), label = \"Average\", color = 'black')\n",
    "kickerppg.suptitle(\"Team PPG and Season Fantasy Output Correlation\", weight = 'bold', size = 18, y = 1.05)\n",
    "ax.set_xlabel(\"Team Points per Game\")\n",
    "ax.set_ylabel(\"NFL Season \\n FantPt\")\n",
    " \n",
    "ax.plot(np.unique(dfTrainingK['Team PPG']), np.poly1d(np.polyfit(dfTrainingK['Team PPG'], dfTrainingK['FantPt'], 1))(np.unique(dfTrainingK['Team PPG'])))\n",
    "\n",
    "ax.legend(loc='best', prop={'size': 9, \"family\": \"Rockwell\"})\n",
    " \n",
    "slope, intercept, r_value, p_value, std_err = linregress(dfTrainingK['Team PPG'], dfTrainingK['FantPt'])\n",
    "print(\"Wingspan and DWS: slope =\", slope, \", intercept =\", intercept, \", r_value =\", r_value,\n",
    "    \", p_value =\", p_value, \", std_err =\", std_err)\n",
    "rsquared = r_value ** 2\n",
    "rpString = \"r = \" + str(round(r_value, 3)) + \", p = \" + str(round(p_value, 3)) + \", rsquared = \" + str(round(rsquared, 3))\n",
    "\n",
    "kickerppg.savefig('ppg-fantpt-K.png', dpi = 400, bbox_inches = 'tight')"
   ]
  },
  {
   "cell_type": "code",
   "execution_count": 14,
   "metadata": {},
   "outputs": [
    {
     "name": "stdout",
     "output_type": "stream",
     "text": [
      "2018 NFL seasonal fantasy points prediction for K using Linear Regression: \n",
      "Stephen Gostkowski 142.02830193392398\n",
      "Greg Zuerlein 115.98855765236466\n",
      "Justin Tucker 137.02016683292354\n",
      "Wil Lutz 142.98719040729245\n",
      "Matt Bryant 119.0183746436315\n",
      "Harrison Butker 161.00096358717568\n",
      "Jake Elliott 132.02109166995567\n",
      "Chris Boswell 125.99295601811436\n",
      "Robbie Gould 117.02565519068153\n",
      "Matt Prater 118.01575127783522\n",
      "Mason Crosby 122.02909853148392\n",
      "Adam Vinatieri 117.01942750370026\n",
      "Graham Gano 119.02260315150109\n",
      "Brandon McManus 105.01489327443831\n",
      "Ryan Succop 102.02419803045387\n",
      "Jason Myers 118.00836271213296\n",
      "Ka'imi Fairbairn 94.98790215215857\n",
      "Brett Maher 123.020190365201\n",
      "Aldrick Rosas 76.9894578392498\n",
      "Cody Parkey 113.01231966935914\n",
      "Sebastian Janikowski 109.01383917766255\n",
      "Dustin Hopkins 124.0545939450857\n",
      "Josh Lambo 109.02508540789238\n"
     ]
    }
   ],
   "source": [
    "# Linear Regression Predictions\n",
    "\n",
    "kickers = dfK.loc[:, 'AVG XPM': 'PPG']\n",
    "linear_preds = []\n",
    "rows = 0\n",
    "cols = 0\n",
    "temp = linReg.predict(kickers)\n",
    "names = dfK.iloc[:, 0]\n",
    "\n",
    "print(\"2018 NFL seasonal fantasy points prediction for K using Linear Regression: \")\n",
    "for i in(names):\n",
    "    linear_preds.append([i, temp[rows][cols]])\n",
    "    print(i, temp[rows][cols])  \n",
    "    rows+=1"
   ]
  },
  {
   "cell_type": "code",
   "execution_count": 15,
   "metadata": {},
   "outputs": [
    {
     "name": "stdout",
     "output_type": "stream",
     "text": [
      "2018 NFL seasonal fantasy points prediction for K using Ridge Regression: \n",
      "Stephen Gostkowski 140.90483414062277\n",
      "Greg Zuerlein 118.71263146458926\n",
      "Justin Tucker 134.69606354846567\n",
      "Wil Lutz 142.9899737119166\n",
      "Matt Bryant 119.37610368530193\n",
      "Harrison Butker 158.96450016607267\n",
      "Jake Elliott 129.5896686580128\n",
      "Chris Boswell 126.04902775944274\n",
      "Robbie Gould 116.78036453639731\n",
      "Matt Prater 117.50145629592544\n",
      "Mason Crosby 122.035053597016\n",
      "Adam Vinatieri 118.45420147746125\n",
      "Graham Gano 119.45160175978725\n",
      "Brandon McManus 106.20338993051547\n",
      "Ryan Succop 102.85516692056906\n",
      "Jason Myers 116.27778978386644\n",
      "Ka'imi Fairbairn 97.19962989190293\n",
      "Brett Maher 121.47683730027032\n",
      "Aldrick Rosas 79.67575789309927\n",
      "Cody Parkey 114.75129584828554\n",
      "Sebastian Janikowski 110.43204175529917\n",
      "Dustin Hopkins 122.02701743041749\n",
      "Josh Lambo 108.53903015735949\n"
     ]
    }
   ],
   "source": [
    "# Ridge Regression predictions\n",
    "\n",
    "rows = 0\n",
    "cols = 0\n",
    "ridge_preds = []\n",
    "temp = ridgeReg.predict(kickers)\n",
    "\n",
    "print(\"2018 NFL seasonal fantasy points prediction for K using Ridge Regression: \")\n",
    "for i in(names):\n",
    "    ridge_preds.append([i, temp[rows][cols]])\n",
    "    print(i, temp[rows][cols])  \n",
    "    rows+=1"
   ]
  },
  {
   "cell_type": "code",
   "execution_count": 16,
   "metadata": {},
   "outputs": [
    {
     "name": "stdout",
     "output_type": "stream",
     "text": [
      "2018 NFL seasonal fantasy points prediction for K using Bayesian Ridge Regression: \n",
      "Stephen Gostkowski 142.0281953206319\n",
      "Greg Zuerlein 116.00111837282114\n",
      "Justin Tucker 137.02102452089719\n",
      "Wil Lutz 142.9923241622074\n",
      "Matt Bryant 119.02094357841128\n",
      "Harrison Butker 161.00476450665502\n",
      "Jake Elliott 132.0190707842217\n",
      "Chris Boswell 125.99572051065412\n",
      "Robbie Gould 117.02614259546102\n",
      "Matt Prater 118.01631484550397\n",
      "Mason Crosby 122.02996868032855\n",
      "Adam Vinatieri 117.02448148561865\n",
      "Graham Gano 119.02598194176161\n",
      "Brandon McManus 105.01750779474092\n",
      "Ryan Succop 102.02444900196701\n",
      "Jason Myers 118.0069857562898\n",
      "Ka'imi Fairbairn 94.99120843022249\n",
      "Brett Maher 123.01992861564445\n",
      "Aldrick Rosas 76.99635290008027\n",
      "Cody Parkey 113.01755128322532\n",
      "Sebastian Janikowski 109.01915500610247\n",
      "Dustin Hopkins 124.04921762246487\n",
      "Josh Lambo 109.02418384268509\n"
     ]
    }
   ],
   "source": [
    "# Bayesian Ridge Regression predictions \n",
    "\n",
    "rows = 0\n",
    "cols = 0\n",
    "bayes_preds = []\n",
    "temp = bayesianRidge.predict(kickers)\n",
    "\n",
    "print(\"2018 NFL seasonal fantasy points prediction for K using Bayesian Ridge Regression: \")\n",
    "for i in(names):\n",
    "    bayes_preds.append([i, temp[rows]])\n",
    "    print(i, temp[rows])  \n",
    "    rows+=1"
   ]
  },
  {
   "cell_type": "code",
   "execution_count": 17,
   "metadata": {},
   "outputs": [
    {
     "name": "stdout",
     "output_type": "stream",
     "text": [
      "2018 NFL seasonal fantasy points prediction for K using Support Vector Regression: \n",
      "Stephen Gostkowski 143.58758320268788\n",
      "Greg Zuerlein 115.70594371829668\n",
      "Justin Tucker 137.6732114695251\n",
      "Wil Lutz 145.74720152853934\n",
      "Matt Bryant 119.02315257706469\n",
      "Harrison Butker 161.77647650624354\n",
      "Jake Elliott 131.53306324261746\n",
      "Chris Boswell 126.22622381444233\n",
      "Robbie Gould 117.07078860216947\n",
      "Matt Prater 117.83095017768153\n",
      "Mason Crosby 121.29836925901334\n",
      "Adam Vinatieri 116.71100530806254\n",
      "Graham Gano 119.04595763152356\n",
      "Brandon McManus 105.12407742562456\n",
      "Ryan Succop 101.78903910034047\n",
      "Jason Myers 117.95895105554101\n",
      "Ka'imi Fairbairn 95.29937097637716\n",
      "Brett Maher 123.57198928907802\n",
      "Aldrick Rosas 79.12893840447236\n",
      "Cody Parkey 112.82831406061422\n",
      "Sebastian Janikowski 108.82758943961318\n",
      "Dustin Hopkins 123.89321081374905\n",
      "Josh Lambo 107.87546685045234\n"
     ]
    }
   ],
   "source": [
    "# Support Vector Regression predictions \n",
    "\n",
    "rows = 0\n",
    "svr_preds = []\n",
    "temp = svr_rbf.predict(kickers)\n",
    "\n",
    "print(\"2018 NFL seasonal fantasy points prediction for K using Support Vector Regression: \")\n",
    "for i in(names):\n",
    "    svr_preds.append([i, temp[rows]])\n",
    "    print(i, temp[rows])  \n",
    "    rows+=1"
   ]
  },
  {
   "cell_type": "code",
   "execution_count": 18,
   "metadata": {},
   "outputs": [
    {
     "name": "stdout",
     "output_type": "stream",
     "text": [
      "2018 NFL seasonal fantasy points prediction for K using Random Forest Regression: \n",
      "Stephen Gostkowski 132.02\n",
      "Greg Zuerlein 121.31\n",
      "Justin Tucker 138.99\n",
      "Wil Lutz 134.57\n",
      "Matt Bryant 120.34\n",
      "Harrison Butker 153.97\n",
      "Jake Elliott 130.61\n",
      "Chris Boswell 124.7\n",
      "Robbie Gould 118.74\n",
      "Matt Prater 118.64\n",
      "Mason Crosby 123.55\n",
      "Adam Vinatieri 119.67\n",
      "Graham Gano 119.4\n",
      "Brandon McManus 105.54\n",
      "Ryan Succop 102.13\n",
      "Jason Myers 114.88\n",
      "Ka'imi Fairbairn 91.95\n",
      "Brett Maher 117.72\n",
      "Aldrick Rosas 80.49\n",
      "Cody Parkey 116.51\n",
      "Sebastian Janikowski 113.51\n",
      "Dustin Hopkins 118.67\n",
      "Josh Lambo 114.11\n"
     ]
    }
   ],
   "source": [
    "# Random Forest Regression predictions \n",
    "\n",
    "rows = 0\n",
    "rf_preds = []\n",
    "temp = randomForest.predict(kickers)\n",
    "\n",
    "print(\"2018 NFL seasonal fantasy points prediction for K using Random Forest Regression: \")\n",
    "for i in(names):\n",
    "    rf_preds.append([i, temp[rows]])\n",
    "    print(i, temp[rows])  \n",
    "    rows+=1"
   ]
  },
  {
   "cell_type": "code",
   "execution_count": 19,
   "metadata": {},
   "outputs": [
    {
     "name": "stdout",
     "output_type": "stream",
     "text": [
      "2018 NFL season fantasy points scored prediction for K using Gradient Boosting Regression:\n",
      "Stephen Gostkowski 134.58397419257787\n",
      "Greg Zuerlein 124.07775030090272\n",
      "Justin Tucker 139.66083330253713\n",
      "Wil Lutz 137.00573292765992\n",
      "Matt Bryant 121.42042189718313\n",
      "Harrison Butker 157.45778387424173\n",
      "Jake Elliott 130.69351668625194\n",
      "Chris Boswell 125.2860953075645\n",
      "Robbie Gould 120.79562447653998\n",
      "Matt Prater 117.73492326986973\n",
      "Mason Crosby 123.95605580312746\n",
      "Adam Vinatieri 117.93833897067931\n",
      "Graham Gano 121.06576298401333\n",
      "Brandon McManus 107.30046780213223\n",
      "Ryan Succop 99.82910918000537\n",
      "Jason Myers 117.26092144215734\n",
      "Ka'imi Fairbairn 95.01728096926804\n",
      "Brett Maher 122.08865470964557\n",
      "Aldrick Rosas 77.12076554750753\n",
      "Cody Parkey 116.26583567957675\n",
      "Sebastian Janikowski 114.427691758143\n",
      "Dustin Hopkins 120.64256736369468\n",
      "Josh Lambo 111.99358223628384\n"
     ]
    }
   ],
   "source": [
    "# Gradient Boosting Regression predictions \n",
    "\n",
    "rows = 0\n",
    "gb_preds = []\n",
    "temp = gradBoost.predict(kickers)\n",
    "\n",
    "print(\"2018 NFL season fantasy points scored prediction for K using Gradient Boosting Regression:\")\n",
    "for i in(names):\n",
    "    gb_preds.append([i, temp[rows]])\n",
    "    print(i, temp[rows])  \n",
    "    rows+=1"
   ]
  },
  {
   "cell_type": "code",
   "execution_count": 20,
   "metadata": {},
   "outputs": [],
   "source": [
    "#Convert to dataframes \n",
    "\n",
    "dflinear = pd.DataFrame(linear_preds, columns = ['Name', 'FantPtLinear'])\n",
    "dfridge = pd.DataFrame(ridge_preds, columns = ['Name', 'FantPtRidge'])\n",
    "dfbayes = pd.DataFrame(bayes_preds, columns = ['Name', 'FantPtBayes'])\n",
    "dfsvr =  pd.DataFrame(svr_preds, columns = ['Name', 'FantPtSVR'])\n",
    "dfrand = pd.DataFrame(rf_preds, columns = ['Name', 'FantPtRF'])\n",
    "dfgrad = pd.DataFrame(gb_preds, columns = ['Name', 'FantPtGB'])"
   ]
  },
  {
   "cell_type": "code",
   "execution_count": 21,
   "metadata": {},
   "outputs": [
    {
     "data": {
      "text/html": [
       "<div>\n",
       "<style scoped>\n",
       "    .dataframe tbody tr th:only-of-type {\n",
       "        vertical-align: middle;\n",
       "    }\n",
       "\n",
       "    .dataframe tbody tr th {\n",
       "        vertical-align: top;\n",
       "    }\n",
       "\n",
       "    .dataframe thead th {\n",
       "        text-align: right;\n",
       "    }\n",
       "</style>\n",
       "<table border=\"1\" class=\"dataframe\">\n",
       "  <thead>\n",
       "    <tr style=\"text-align: right;\">\n",
       "      <th></th>\n",
       "      <th>Name</th>\n",
       "      <th>FantPtLinear</th>\n",
       "      <th>ESPN</th>\n",
       "      <th>Projected</th>\n",
       "    </tr>\n",
       "  </thead>\n",
       "  <tbody>\n",
       "    <tr>\n",
       "      <th>0</th>\n",
       "      <td>Stephen Gostkowski</td>\n",
       "      <td>142.028302</td>\n",
       "      <td>146</td>\n",
       "      <td>148</td>\n",
       "    </tr>\n",
       "    <tr>\n",
       "      <th>1</th>\n",
       "      <td>Greg Zuerlein</td>\n",
       "      <td>115.988558</td>\n",
       "      <td>148</td>\n",
       "      <td>131</td>\n",
       "    </tr>\n",
       "    <tr>\n",
       "      <th>2</th>\n",
       "      <td>Justin Tucker</td>\n",
       "      <td>137.020167</td>\n",
       "      <td>138</td>\n",
       "      <td>154</td>\n",
       "    </tr>\n",
       "    <tr>\n",
       "      <th>3</th>\n",
       "      <td>Wil Lutz</td>\n",
       "      <td>142.987190</td>\n",
       "      <td>131</td>\n",
       "      <td>165</td>\n",
       "    </tr>\n",
       "    <tr>\n",
       "      <th>4</th>\n",
       "      <td>Matt Bryant</td>\n",
       "      <td>119.018375</td>\n",
       "      <td>140</td>\n",
       "      <td>105</td>\n",
       "    </tr>\n",
       "  </tbody>\n",
       "</table>\n",
       "</div>"
      ],
      "text/plain": [
       "                 Name  FantPtLinear  ESPN  Projected\n",
       "0  Stephen Gostkowski    142.028302   146        148\n",
       "1       Greg Zuerlein    115.988558   148        131\n",
       "2       Justin Tucker    137.020167   138        154\n",
       "3            Wil Lutz    142.987190   131        165\n",
       "4         Matt Bryant    119.018375   140        105"
      ]
     },
     "execution_count": 21,
     "metadata": {},
     "output_type": "execute_result"
    }
   ],
   "source": [
    "# Merge with actual data for validation\n",
    "\n",
    "dflinear = dflinear.merge(dfProjectedK)\n",
    "dfridge = dfridge.merge(dfProjectedK)\n",
    "dfbayes = dfbayes.merge(dfProjectedK)\n",
    "dfrand = dfrand.merge(dfProjectedK)\n",
    "dfgrad = dfgrad.merge(dfProjectedK)\n",
    "dfsvr = dfsvr.merge(dfProjectedK)\n",
    "dflinear.head()"
   ]
  },
  {
   "cell_type": "code",
   "execution_count": 22,
   "metadata": {},
   "outputs": [
    {
     "name": "stdout",
     "output_type": "stream",
     "text": [
      "ESPN Mean Squared Error: 733.8695652173913\n",
      "ESPN Root Mean Squared Error: 27.09002704349686\n"
     ]
    }
   ],
   "source": [
    "# RMSE and MSE validation for ESPN's Predictions\n",
    "\n",
    "mse = 0\n",
    "for row in dflinear.itertuples():\n",
    "    temp = row.Projected-row.ESPN\n",
    "    temp = temp * temp\n",
    "    mse += temp\n",
    "mse = mse/dflinear.shape[0]\n",
    "rmse = math.sqrt(mse)\n",
    "\n",
    "print(\"ESPN Mean Squared Error: \" + str(mse))\n",
    "print(\"ESPN Root Mean Squared Error: \" + str(rmse))"
   ]
  },
  {
   "cell_type": "code",
   "execution_count": 23,
   "metadata": {},
   "outputs": [
    {
     "name": "stdout",
     "output_type": "stream",
     "text": [
      "Linear Regression Mean Squared Error: 792.1533714608901\n",
      "Linear Regression Root Mean Squared Error: 28.14521933581066\n"
     ]
    }
   ],
   "source": [
    "# RMSE and MSE validation for Linear Regression predictions\n",
    "\n",
    "mselinear = 0\n",
    "for row in dflinear.itertuples():\n",
    "    temp = row.Projected-row.FantPtLinear\n",
    "    temp = temp * temp\n",
    "    mselinear += temp\n",
    "mselinear = mselinear/dflinear.shape[0]\n",
    "rmselinear = math.sqrt(mselinear)\n",
    "\n",
    "print(\"Linear Regression Mean Squared Error: \" + str(mselinear))\n",
    "print(\"Linear Regression Root Mean Squared Error: \" + str(rmselinear))"
   ]
  },
  {
   "cell_type": "code",
   "execution_count": 24,
   "metadata": {},
   "outputs": [
    {
     "name": "stdout",
     "output_type": "stream",
     "text": [
      "Ridge Regression Mean Squared Error: 763.3286677250499\n",
      "Ridge Regression Root Mean Squared Error: 27.628403278601713\n"
     ]
    }
   ],
   "source": [
    "# RMSE and MSE validation for Ridge Regression predictions\n",
    "\n",
    "mseridge = 0\n",
    "for row in dfridge.itertuples():\n",
    "    temp = row.Projected-row.FantPtRidge\n",
    "    temp = temp * temp\n",
    "    mseridge += temp\n",
    "mseridge = mseridge/dfridge.shape[0]\n",
    "rmseridge = math.sqrt(mseridge)\n",
    "\n",
    "print(\"Ridge Regression Mean Squared Error: \" + str(mseridge))\n",
    "print(\"Ridge Regression Root Mean Squared Error: \" + str(rmseridge))"
   ]
  },
  {
   "cell_type": "code",
   "execution_count": 25,
   "metadata": {},
   "outputs": [
    {
     "name": "stdout",
     "output_type": "stream",
     "text": [
      "Bayesian Ridge Regression Mean Squared Error: 792.0545071254298\n",
      "Bayesian Ridge Regression Root Mean Squared Error: 28.14346295546143\n"
     ]
    }
   ],
   "source": [
    "# RMSE and MSE validation for Bayesian Ridge Regression predictions\n",
    "\n",
    "msebayes = 0\n",
    "for row in dfbayes.itertuples():\n",
    "    temp = row.Projected-row.FantPtBayes\n",
    "    temp = temp * temp\n",
    "    msebayes += temp\n",
    "msebayes = msebayes/dfbayes.shape[0]\n",
    "rmsebayes = math.sqrt(msebayes)\n",
    "\n",
    "print(\"Bayesian Ridge Regression Mean Squared Error: \" + str(msebayes))\n",
    "print(\"Bayesian Ridge Regression Root Mean Squared Error: \" + str(rmsebayes))"
   ]
  },
  {
   "cell_type": "code",
   "execution_count": 26,
   "metadata": {},
   "outputs": [
    {
     "name": "stdout",
     "output_type": "stream",
     "text": [
      "Support Vector Regression Mean Squared Error: 772.7348853726468\n",
      "Support Vector Regression Root Mean Squared Error: 27.798109384860094\n"
     ]
    }
   ],
   "source": [
    "# RMSE and MSE validation for Support Vector Regression predictions\n",
    "\n",
    "msesvr = 0\n",
    "for row in dfsvr.itertuples():\n",
    "    temp = row.Projected-row.FantPtSVR\n",
    "    temp = temp * temp\n",
    "    msesvr += temp\n",
    "msesvr = msesvr/dfsvr.shape[0]\n",
    "rmsesvr = math.sqrt(msesvr)\n",
    "\n",
    "print(\"Support Vector Regression Mean Squared Error: \" + str(msesvr))\n",
    "print(\"Support Vector Regression Root Mean Squared Error: \" + str(rmsesvr))"
   ]
  },
  {
   "cell_type": "code",
   "execution_count": 27,
   "metadata": {},
   "outputs": [
    {
     "name": "stdout",
     "output_type": "stream",
     "text": [
      "Random Forest Regression Mean Squared Error: 812.8536434782609\n",
      "Random Forest Regression Root Mean Squared Error: 28.51058826959312\n"
     ]
    }
   ],
   "source": [
    "# RMSE and MSE validation for Random Forest Regression predictions\n",
    "\n",
    "mserf = 0\n",
    "for row in dfrand.itertuples():\n",
    "    temp = row.Projected-row.FantPtRF\n",
    "    temp = temp * temp\n",
    "    mserf += temp\n",
    "mserf = mserf/dfrand.shape[0]\n",
    "rmserf = math.sqrt(mserf)\n",
    "\n",
    "print(\"Random Forest Regression Mean Squared Error: \" + str(mserf))\n",
    "print(\"Random Forest Regression Root Mean Squared Error: \" + str(rmserf))"
   ]
  },
  {
   "cell_type": "code",
   "execution_count": 28,
   "metadata": {},
   "outputs": [
    {
     "name": "stdout",
     "output_type": "stream",
     "text": [
      "Gradient Boosting Regression Mean Squared Error: 786.0542000031365\n",
      "Gradient Boosting Regression Root Mean Squared Error: 28.03665814613319\n"
     ]
    }
   ],
   "source": [
    "# RMSE and MSE validation for Gradient Boosting Regression predictions\n",
    "\n",
    "msegb = 0\n",
    "for row in dfgrad.itertuples():\n",
    "    temp = row.Projected-row.FantPtGB\n",
    "    temp = temp * temp\n",
    "    msegb += temp\n",
    "msegb = msegb/dfgrad.shape[0]\n",
    "rmsegb = math.sqrt(msegb)\n",
    "\n",
    "print(\"Gradient Boosting Regression Mean Squared Error: \" + str(msegb))\n",
    "print(\"Gradient Boosting Regression Root Mean Squared Error: \" + str(rmsegb))"
   ]
  },
  {
   "cell_type": "code",
   "execution_count": 29,
   "metadata": {},
   "outputs": [
    {
     "data": {
      "image/png": "[encoded data removed]",
      "text/plain": [
       "<Figure size 432x288 with 1 Axes>"
      ]
     },
     "metadata": {},
     "output_type": "display_data"
    }
   ],
   "source": [
    "# Root Mean Squared Error Graph\n",
    "\n",
    "rmsePlot, ax = plt.subplots()\n",
    "\n",
    "rmseScores = [rmse, rmselinear, rmseridge, rmsebayes, rmsesvr, rmserf, rmsegb]\n",
    "x_pos = np.arange(len(rmseScores))\n",
    "\n",
    "ax.bar(x_pos, rmseScores, edgecolor = 'black', color = 'red', linewidth = 3)\n",
    "\n",
    "rmseNames = [\" ESPN\", \" Linear\", \" Ridge\", \" Bayesian Ridge\", \" Support Vector\", \" Random Forest\", \" Gradient Boosting\"]\n",
    "\n",
    "labels = [i for i in rmseNames]\n",
    "\n",
    "rects = ax.patches\n",
    "for rect, label in zip(rects, labels):\n",
    "    height = .5\n",
    "    ax.text(rect.get_x() + rect.get_width() / 1.8, height, label,\n",
    "            ha='center', va='bottom', rotation = 'vertical', color = 'yellow', size = 16)\n",
    "\n",
    "rmsePlot.suptitle(\"Root Mean Squared Error (RMSE) for K\", weight = 'bold', size = 18, y = 1.005)\n",
    "ax.xaxis.set_visible(False)\n",
    "ax.set_ylabel(\"RMSE\")\n",
    "\n",
    "rmsePlot.savefig('rmseK-plot.png', dpi = 400, bbox_inches = 'tight')"
   ]
  },
  {
   "cell_type": "code",
   "execution_count": 30,
   "metadata": {},
   "outputs": [
    {
     "name": "stdout",
     "output_type": "stream",
     "text": [
      "Average Seasonal Fantasy Points for all Kickers:\n",
      "[['Harrison Butker', 159.02908144006477], ['Wil Lutz', 141.04873712293593], ['Stephen Gostkowski', 139.19214813174074], ['Justin Tucker', 137.51021661239145], ['Jake Elliott', 131.07773517350992], ['Chris Boswell', 125.70833723503635], ['Mason Crosby', 122.48309097849489], ['Dustin Hopkins', 122.22276786256862], ['Brett Maher', 121.81626671330656], ['Matt Bryant', 119.69983273026543], ['Graham Gano', 119.5019845780978], ['Greg Zuerlein', 118.6326669181624], ['Matt Prater', 117.95656597780264], ['Robbie Gould', 117.90642923354154], ['Adam Vinatieri', 117.80290912425367], ['Jason Myers', 117.06550179166459], ['Cody Parkey', 114.3975527568435], ['Sebastian Janikowski', 110.87171952280339], ['Josh Lambo', 110.09455808244553], ['Brandon McManus', 105.7000560379086], ['Ryan Succop', 101.7753270388893], [\"Ka'imi Fairbairn\", 94.90756540332153], ['Aldrick Rosas', 78.40021209740154]]\n"
     ]
    },
    {
     "data": {
      "image/png": "[encoded data removed]",
      "text/plain": [
       "<Figure size 432x288 with 1 Axes>"
      ]
     },
     "metadata": {},
     "output_type": "display_data"
    }
   ],
   "source": [
    "# Average Predictions plot for K1 (K#1 - K #10) since predictions are similar in accuracy\n",
    "\n",
    "avgPredictions, ax = plt.subplots()\n",
    "\n",
    "averagePred = []\n",
    "name = 0\n",
    "\n",
    "for h, i ,j ,k , l, m, in zip(linear_preds, ridge_preds, bayes_preds, svr_preds, rf_preds, gb_preds):\n",
    "    averagePred.append([linear_preds[name][0], (linear_preds[name][1] + ridge_preds[name][1] + bayes_preds[name][1] + svr_preds[name][1] + rf_preds[name][1] + gb_preds[name][1]) / 6])\n",
    "    name += 1\n",
    "\n",
    "sortedAvg = sorted(averagePred, key = itemgetter(1), reverse = True)\n",
    "K1Avg = []\n",
    "K1Avg = sortedAvg[0:10]\n",
    "print(\"Average Seasonal Fantasy Points for all Kickers:\")\n",
    "print(sortedAvg)\n",
    "\n",
    "sortedAvgData = [row[1] for row in K1Avg]\n",
    "x_pos = np.arange(len(sortedAvgData))\n",
    "\n",
    "ax.bar(x_pos, sortedAvgData, color = 'blue', edgecolor = 'black', linewidth = 3)\n",
    "\n",
    "labels = [row[0] for row in sortedAvg]\n",
    "labelsK1 = labels[0:10]\n",
    "\n",
    "rects = ax.patches\n",
    "for rect, label in zip(rects, labelsK1):\n",
    "    height = .5\n",
    "    ax.text(rect.get_x() + rect.get_width() / 1.75, height, label,\n",
    "            ha='center', va='bottom', rotation = 'vertical', color = 'Orange')\n",
    "\n",
    "avgPredictions.suptitle(\"Average 2018 Fantasy Point Prediction from 6 Regressions \\n For K1s (10 Man)\", weight = 'bold', size = 18, y = 1.005)\n",
    "ax.xaxis.set_visible(False)\n",
    "ax.set_ylabel(\"Predicted 2018 FantPt\")\n",
    "\n",
    "avgPredictions.savefig('avg-predictionsK.png', dpi = 400, bbox_inches = 'tight')"
   ]
  }
 ],
 "metadata": {
  "kernelspec": {
   "display_name": "Python 3",
   "language": "python",
   "name": "python3"
  },
  "language_info": {
   "codemirror_mode": {
    "name": "ipython",
    "version": 3
   },
   "file_extension": ".py",
   "mimetype": "text/x-python",
   "name": "python",
   "nbconvert_exporter": "python",
   "pygments_lexer": "ipython3",
   "version": "3.7.1rc1"
  }
 },
 "nbformat": 4,
 "nbformat_minor": 2
}
